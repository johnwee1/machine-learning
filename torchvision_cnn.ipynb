{
 "cells": [
  {
   "cell_type": "markdown",
   "metadata": {},
   "source": [
    "# Computer vision application with torchvision"
   ]
  },
  {
   "cell_type": "code",
   "execution_count": 39,
   "metadata": {},
   "outputs": [
    {
     "data": {
      "text/plain": [
       "'mps'"
      ]
     },
     "execution_count": 39,
     "metadata": {},
     "output_type": "execute_result"
    }
   ],
   "source": [
    "DEVICE, FORCE_CPU = \"cpu\", False\n",
    "if not FORCE_CPU and torch.backends.mps.is_available():\n",
    "    DEVICE=\"mps\"\n",
    "elif not FORCE_CPU and torch.cuda.is_available():\n",
    "    DEVICE=\"cuda\"\n",
    "DEVICE"
   ]
  },
  {
   "cell_type": "markdown",
   "metadata": {},
   "source": [
    "## Import dependencies"
   ]
  },
  {
   "cell_type": "code",
   "execution_count": 10,
   "metadata": {},
   "outputs": [],
   "source": [
    "import torch\n",
    "from torch import nn\n",
    "\n",
    "import torchvision\n",
    "from torchvision import datasets\n",
    "# from torchvision import transforms\n",
    "# from torchvision.transforms import ToTensor\n",
    "\n",
    "import matplotlib.pyplot as plt"
   ]
  },
  {
   "cell_type": "markdown",
   "metadata": {},
   "source": [
    "### Import dataset from torchvision\n",
    "We are using FashionMNIST"
   ]
  },
  {
   "cell_type": "code",
   "execution_count": 11,
   "metadata": {},
   "outputs": [],
   "source": [
    "train_data = datasets.FashionMNIST(\n",
    "    root=\"data\",\n",
    "    train=True,\n",
    "    download=True,\n",
    "    transform=torchvision.transforms.ToTensor(),\n",
    "    target_transform=None\n",
    ")\n",
    "test_data = datasets.FashionMNIST(\n",
    "    root=\"data\",\n",
    "    train=False,\n",
    "    download=True,\n",
    "    transform=torchvision.transforms.ToTensor(),\n",
    "    target_transform=None\n",
    ")"
   ]
  },
  {
   "cell_type": "markdown",
   "metadata": {},
   "source": [
    "### Data inspection\n",
    "Find out more about the dataset that we are using\n",
    "\n",
    "You can inspect the attributes of the class by just typing `train_data.` and see what comes up"
   ]
  },
  {
   "cell_type": "code",
   "execution_count": 12,
   "metadata": {},
   "outputs": [
    {
     "data": {
      "text/plain": [
       "(60000, 10000)"
      ]
     },
     "execution_count": 12,
     "metadata": {},
     "output_type": "execute_result"
    }
   ],
   "source": [
    "len(train_data), len(test_data)"
   ]
  },
  {
   "cell_type": "code",
   "execution_count": 13,
   "metadata": {},
   "outputs": [
    {
     "name": "stdout",
     "output_type": "stream",
     "text": [
      "<class 'tuple'>\n",
      "2\n",
      "image.shape=torch.Size([1, 28, 28])\n",
      "label=9\n"
     ]
    }
   ],
   "source": [
    "# See the first training example\n",
    "print(type(train_data[0])) # Tuple\n",
    "print(len(train_data[0])) # length 2\n",
    "image, label = train_data[0]\n",
    "print(f\"image.shape={image.shape}\") # (1,28,28)\n",
    "# Each image is 28x28 and only has 1 color channel because it is grayscale\n",
    "print(f\"label={label}\")"
   ]
  },
  {
   "cell_type": "code",
   "execution_count": 14,
   "metadata": {},
   "outputs": [
    {
     "data": {
      "text/plain": [
       "['T-shirt/top',\n",
       " 'Trouser',\n",
       " 'Pullover',\n",
       " 'Dress',\n",
       " 'Coat',\n",
       " 'Sandal',\n",
       " 'Shirt',\n",
       " 'Sneaker',\n",
       " 'Bag',\n",
       " 'Ankle boot']"
      ]
     },
     "execution_count": 14,
     "metadata": {},
     "output_type": "execute_result"
    }
   ],
   "source": [
    "class_names = train_data.classes\n",
    "class_names"
   ]
  },
  {
   "cell_type": "code",
   "execution_count": 15,
   "metadata": {},
   "outputs": [
    {
     "data": {
      "text/plain": [
       "{'T-shirt/top': 0,\n",
       " 'Trouser': 1,\n",
       " 'Pullover': 2,\n",
       " 'Dress': 3,\n",
       " 'Coat': 4,\n",
       " 'Sandal': 5,\n",
       " 'Shirt': 6,\n",
       " 'Sneaker': 7,\n",
       " 'Bag': 8,\n",
       " 'Ankle boot': 9}"
      ]
     },
     "execution_count": 15,
     "metadata": {},
     "output_type": "execute_result"
    }
   ],
   "source": [
    "# Returns an enumerated dict of the class list\n",
    "class_to_idx = train_data.class_to_idx\n",
    "class_to_idx"
   ]
  },
  {
   "cell_type": "markdown",
   "metadata": {},
   "source": [
    "We now know that input is a 28x28 grayscale image that's encoded as a tuple, and output that ranges from 0-9 which represents a class/category that the image falls into\n",
    "\n",
    "## Visualize the data\n",
    "\n",
    "Running `plt.imshow(image)` returns an error because mpl expects the image channel to come last. Therefore, **we have to remove that dimension when plotting**"
   ]
  },
  {
   "cell_type": "code",
   "execution_count": 16,
   "metadata": {},
   "outputs": [
    {
     "data": {
      "text/plain": [
       "<matplotlib.image.AxesImage at 0x295e0e8d0>"
      ]
     },
     "execution_count": 16,
     "metadata": {},
     "output_type": "execute_result"
    },
    {
     "data": {
      "image/png": "[encoded data removed]",
      "text/plain": [
       "<Figure size 640x480 with 1 Axes>"
      ]
     },
     "metadata": {},
     "output_type": "display_data"
    }
   ],
   "source": [
    "plt.imshow(image.squeeze(), cmap='gray') # .squeeze removes the extra dimension of size 1"
   ]
  },
  {
   "cell_type": "markdown",
   "metadata": {},
   "source": [
    "### A common pattern when it comes to inspecting data:\n",
    "\n",
    "#### 1) Generate some kind of random index using \n",
    "```python\n",
    "rand_idx = torch.randint(start, end, size=(1,)).item()\n",
    "```\n",
    "`size=[1]` or `size=(1,)` parameter specifies the size of the output tensor as a tuple, and `.item()` returns the only item in a tensor of size 1 (turns tensor into value)\n",
    "\n",
    "#### 2) Index an instance of training data (X, y) to the random index in the overall dataset\n",
    "`X, y = training_data[rand_idx]`\n",
    "\n",
    "#### 3) Display using pyplot\n",
    "`plt.imshow(X.squeeze(), cmap=gray)` and title being `plt.title(class_names[y])`"
   ]
  },
  {
   "cell_type": "code",
   "execution_count": 17,
   "metadata": {},
   "outputs": [
    {
     "data": {
      "image/png": "[encoded data removed]",
      "text/plain": [
       "<Figure size 900x900 with 16 Axes>"
      ]
     },
     "metadata": {},
     "output_type": "display_data"
    }
   ],
   "source": [
    "# Plot more images\n",
    "torch.manual_seed(1001)\n",
    "fig = plt.figure(figsize=(9,9))\n",
    "rows, cols= 4, 4\n",
    "for i in range(1,rows*cols+1):\n",
    "    rand_idx = torch.randint(0,len(train_data),size=(1,)).item()\n",
    "    img, label = train_data[rand_idx]\n",
    "    fig.add_subplot(rows,cols,i)\n",
    "    plt.imshow(img.squeeze(), cmap='gray')\n",
    "    plt.title(class_names[label]) # access the name of class based on train_data.class_to_idx dict provided\n",
    "    plt.axis(False)"
   ]
  },
  {
   "cell_type": "markdown",
   "metadata": {},
   "source": [
    "# Preparing a DataLoader\n",
    "Right now, our data is in the form of a dataset.\n",
    "DataLoader turns our dataset into a Python iterable.\n",
    "In particular, we want to turn our data into *batches/minibatches*.\n",
    "\n",
    "Why?\n",
    "\n",
    "1. For large datasets, it is not feasible to load the entire dataset into memory at a single go especially when the dataset becomes bigger and images become more detailed. So we brek it down into mini-batches\n",
    "\n",
    "2. It gives the neural network more changes to update its gradients per epoch (watch mini batch gradient descent by andrew ng)"
   ]
  },
  {
   "cell_type": "code",
   "execution_count": 18,
   "metadata": {},
   "outputs": [],
   "source": [
    "from torch.utils.data import DataLoader"
   ]
  },
  {
   "cell_type": "code",
   "execution_count": 19,
   "metadata": {},
   "outputs": [],
   "source": [
    "BATCH_SIZE = 32"
   ]
  },
  {
   "cell_type": "code",
   "execution_count": 20,
   "metadata": {},
   "outputs": [],
   "source": [
    "train_dl = DataLoader(\n",
    "    dataset=train_data,\n",
    "    batch_size=BATCH_SIZE,\n",
    "    shuffle=True\n",
    "    )\n",
    "test_dl = DataLoader(\n",
    "    dataset=test_data,\n",
    "    batch_size=BATCH_SIZE,\n",
    "    shuffle=False # there's no need to shuffle data here.\n",
    "    )"
   ]
  },
  {
   "cell_type": "code",
   "execution_count": 21,
   "metadata": {},
   "outputs": [
    {
     "data": {
      "text/plain": [
       "(torch.Size([32, 1, 28, 28]), torch.Size([32]))"
      ]
     },
     "execution_count": 21,
     "metadata": {},
     "output_type": "execute_result"
    }
   ],
   "source": [
    "# Inspect a training dataloader\n",
    "train_features_batch, train_labels_batch = next(iter(train_dl))\n",
    "train_features_batch.shape, train_labels_batch.shape"
   ]
  },
  {
   "cell_type": "code",
   "execution_count": 22,
   "metadata": {},
   "outputs": [
    {
     "data": {
      "image/png": "[encoded data removed]",
      "text/plain": [
       "<Figure size 640x480 with 1 Axes>"
      ]
     },
     "metadata": {},
     "output_type": "display_data"
    }
   ],
   "source": [
    "# show a sample\n",
    "# torch.manual_seed(22)\n",
    "rand_idx = torch.randint(0,BATCH_SIZE, size=[1]).item()\n",
    "img, label = train_features_batch[rand_idx], train_labels_batch[rand_idx]\n",
    "plt.imshow(img.squeeze(), cmap='gray')\n",
    "plt.title(class_names[label])\n",
    "plt.axis(False)\n",
    "plt.show()\n"
   ]
  },
  {
   "cell_type": "markdown",
   "metadata": {},
   "source": [
    "# Building a baseline model\n",
    "When starting to build ML models, its important to start with a **baseline**. A baseline model is a simple model that is improved in subsequent iterations."
   ]
  },
  {
   "cell_type": "code",
   "execution_count": 23,
   "metadata": {},
   "outputs": [
    {
     "name": "stdout",
     "output_type": "stream",
     "text": [
      "shape before=torch.Size([1, 28, 28]), shape after=torch.Size([1, 784])\n"
     ]
    }
   ],
   "source": [
    "# Create a flatten layer\n",
    "flatten_model = nn.Flatten()\n",
    "\n",
    "# Get a single sample\n",
    "x = train_features_batch[0]\n",
    "\n",
    "# flatten sample\n",
    "output = flatten_model(x)\n",
    "\n",
    "print(f\"shape before={x.shape}, shape after={output.shape}\")\n",
    "# now, we can squeeze to remove the extra dimension\n",
    "output = output.squeeze()"
   ]
  },
  {
   "cell_type": "markdown",
   "metadata": {},
   "source": [
    "The concept is to condense information into a single vector space"
   ]
  },
  {
   "cell_type": "markdown",
   "metadata": {},
   "source": [
    "## Let's create a linear vectorized model\n",
    "This consists of only a `nn.Flatten` layer and two linear layers"
   ]
  },
  {
   "cell_type": "code",
   "execution_count": 24,
   "metadata": {},
   "outputs": [],
   "source": [
    "class FashionModel0(nn.Module):\n",
    "    def __init__(self, input_shape, hidden_units, output_shape):\n",
    "        super().__init__()\n",
    "        self.layer_stack = nn.Sequential(\n",
    "            nn.Flatten(),\n",
    "            nn.Linear(in_features=input_shape, out_features=hidden_units),\n",
    "            nn.Linear(in_features=hidden_units, out_features=output_shape)\n",
    "        )\n",
    "    \n",
    "    def forward(self,x):\n",
    "        return self.layer_stack(x)"
   ]
  },
  {
   "cell_type": "code",
   "execution_count": 25,
   "metadata": {},
   "outputs": [],
   "source": [
    "torch.manual_seed(42)\n",
    "model_0=FashionModel0(\n",
    "    input_shape=28*28,\n",
    "    hidden_units=10,\n",
    "    output_shape=len(class_names)\n",
    ").to(DEVICE)"
   ]
  },
  {
   "cell_type": "code",
   "execution_count": 26,
   "metadata": {},
   "outputs": [
    {
     "data": {
      "text/plain": [
       "tensor([[ 0.1813, -0.3193,  1.3691,  0.9185, -0.1709, -1.0997, -0.3299,  1.6366,\n",
       "         -0.0506, -0.6301]], grad_fn=<AddmmBackward0>)"
      ]
     },
     "execution_count": 26,
     "metadata": {},
     "output_type": "execute_result"
    }
   ],
   "source": [
    "torch.manual_seed(42)\n",
    "dummy_x = torch.rand([1,1,28,28]).to(DEVICE)\n",
    "model_0(dummy_x) # tensor with 10 logits\n",
    "# If the flatten layer is missing, this doesn't work"
   ]
  },
  {
   "cell_type": "markdown",
   "metadata": {},
   "source": [
    "# Setting up loss, optimizer and evaluation metrics\n",
    "Since we are working with multi-class data, we would be working with cross entropy.\n",
    "\n",
    "`nn.CrossEntropy()` includes a softmax activation inside, just like `nn.BCEWithLogitsLoss()`. This means that it will take in the raw, unnormalised logit for each class (ie what comes out of the forward function of the model) and apply the softmax function internally. To get prediction probabilities, you'd still have to apply softmax afterwards (for whatever prediction needs you may require)\n",
    "\n",
    "Let's stick with SGD\n",
    "and use Accuracy as an evaluation metric"
   ]
  },
  {
   "cell_type": "code",
   "execution_count": 27,
   "metadata": {},
   "outputs": [],
   "source": [
    "# Let's import a script from helperfunctions.py\n",
    "import requests\n",
    "from pathlib import Path\n",
    "\n",
    "#DL helper functions from learnpytorch repo\n",
    "if not Path(\"helper_functions.py\").is_file():\n",
    "    request = requests.get(\"https://raw.githubusercontent.com/mrdbourke/pytorch-deep-learning/main/helper_functions.py\")\n",
    "    with open(\"helper_functions.py\", \"wb\") as f:\n",
    "        f.write(request.content)\n",
    "    print(\"Downloading helper_functions.py\")"
   ]
  },
  {
   "cell_type": "code",
   "execution_count": 28,
   "metadata": {},
   "outputs": [],
   "source": [
    "from helper_functions import accuracy_fn\n",
    "\n",
    "loss_fn = nn.CrossEntropyLoss().to(DEVICE)\n",
    "optim= torch.optim.SGD(params=model_0.parameters(), lr=0.01)"
   ]
  },
  {
   "cell_type": "markdown",
   "metadata": {},
   "source": [
    "### Timing experiments\n",
    "You'll want to track a model's:\n",
    "1) Performance ( Loss and accuracy vals)\n",
    "2) Speed\n",
    "since this is a tradeoff\n",
    "\n",
    "So let's write a helper function to print timedeltas"
   ]
  },
  {
   "cell_type": "code",
   "execution_count": 29,
   "metadata": {},
   "outputs": [],
   "source": [
    "from timeit import default_timer as timer\n",
    "\n",
    "def print_train_time(\n",
    "        start: float,\n",
    "        end: float,\n",
    "        device: torch.device = None):\n",
    "    \"\"\"Prints delta between start and end\"\"\"\n",
    "    total = end-start\n",
    "    print(f\"Train time on {device}: {total:.3f}s\")\n",
    "    return total"
   ]
  },
  {
   "cell_type": "code",
   "execution_count": 30,
   "metadata": {},
   "outputs": [
    {
     "name": "stdout",
     "output_type": "stream",
     "text": [
      "Train time on cpu: 0.000s\n"
     ]
    },
    {
     "data": {
      "text/plain": [
       "1.0917021427303553e-05"
      ]
     },
     "execution_count": 30,
     "metadata": {},
     "output_type": "execute_result"
    }
   ],
   "source": [
    "start_time = timer()\n",
    "# some code\n",
    "end_time = timer()\n",
    "print_train_time(start=start_time, end=end_time, device=DEVICE)"
   ]
  },
  {
   "cell_type": "code",
   "execution_count": 31,
   "metadata": {},
   "outputs": [
    {
     "name": "stdout",
     "output_type": "stream",
     "text": [
      "1875\n"
     ]
    }
   ],
   "source": [
    "print(train_dl.__len__())\n"
   ]
  },
  {
   "cell_type": "markdown",
   "metadata": {},
   "source": [
    "# Training the baseline model\n",
    "Creating the training loop on training batches of data (using the data loader)\n",
    "\n",
    "### Basic Steps\n",
    "---\n",
    "1) Loop through epochs\n",
    "2) Loop through training batches, perform training steps, calculate the train loss **per batch**\n",
    "3) Loop through testing batches and calculate test loss **per batch**\n",
    "4) Time it, print, etc for monitoring\n",
    "\n"
   ]
  },
  {
   "cell_type": "code",
   "execution_count": 32,
   "metadata": {},
   "outputs": [
    {
     "data": {
      "application/vnd.jupyter.widget-view+json": {
       "model_id": "b95c4d2233aa41859599062db9064657",
       "version_major": 2,
       "version_minor": 0
      },
      "text/plain": [
       "  0%|          | 0/3 [00:00<?, ?it/s]"
      ]
     },
     "metadata": {},
     "output_type": "display_data"
    },
    {
     "name": "stdout",
     "output_type": "stream",
     "text": [
      "Epoch: 0\n",
      "Looked at 0/60000 samples\n"
     ]
    },
    {
     "name": "stdout",
     "output_type": "stream",
     "text": [
      "Looked at 12800/60000 samples\n",
      "Looked at 25600/60000 samples\n",
      "Looked at 38400/60000 samples\n",
      "Looked at 51200/60000 samples\n",
      "Epoch: 1\n",
      "Looked at 0/60000 samples\n",
      "Looked at 12800/60000 samples\n",
      "Looked at 25600/60000 samples\n",
      "Looked at 38400/60000 samples\n",
      "Looked at 51200/60000 samples\n",
      "Epoch: 2\n",
      "Looked at 0/60000 samples\n",
      "Looked at 12800/60000 samples\n",
      "Looked at 25600/60000 samples\n",
      "Looked at 38400/60000 samples\n",
      "Looked at 51200/60000 samples\n",
      "Train loss:0.5024 | Test loss 0.5193 | Test acc:81.9389\n",
      "Train time on cpu: 6.445s\n"
     ]
    }
   ],
   "source": [
    "from tqdm.auto import tqdm\n",
    "\n",
    "torch.manual_seed(42)\n",
    "train_time_start_cpu = timer()\n",
    "epochs = 3\n",
    "\n",
    "# Crate training and test loop\n",
    "for epoch in tqdm(range(epochs)):\n",
    "    print(f\"Epoch: {epoch}\")\n",
    "    train_loss=0\n",
    "    for batch, (X,y) in enumerate(train_dl):\n",
    "        # Move onto device\n",
    "        X = X.to(DEVICE)\n",
    "        y = y.to(DEVICE)\n",
    "\n",
    "        # Training mode\n",
    "        model_0.train()\n",
    "\n",
    "        # Forward pass\n",
    "        train_logits = model_0(X) \n",
    "\n",
    "        # Calculate loss on the BATCHED data (not individual examples)\n",
    "        loss = loss_fn(train_logits, y)\n",
    "        \n",
    "        # Accumulate losses for later\n",
    "        train_loss+=loss\n",
    "\n",
    "        optim.zero_grad()\n",
    "\n",
    "        # Backprop on the BATCHED data\n",
    "        loss.backward()\n",
    "        # Gradient step on BATCHED data\n",
    "        optim.step()\n",
    "\n",
    "        if batch % 400 == 0:\n",
    "            print(f\"Looked at {len(X)*batch}/{len(train_dl.dataset)} samples\")\n",
    "    \n",
    "    # Calculate the average training loss per batch\n",
    "    train_loss /= len(train_dl)\n",
    "\n",
    "# Testing\n",
    "test_loss, test_acc = 0,0\n",
    "model_0.eval()\n",
    "with torch.inference_mode():\n",
    "    for X_test, y_test in test_dl:\n",
    "        X_test, y_test = X_test.to(DEVICE), y_test.to(DEVICE)\n",
    "        # Forward pass\n",
    "        test_logits = model_0(X_test)\n",
    "        test_loss += loss_fn(test_logits, y_test)\n",
    "        test_acc+= accuracy_fn(y_test, test_logits.argmax(dim=1))\n",
    "    test_loss /= len(test_dl)\n",
    "    test_acc /= len(test_dl)\n",
    "\n",
    "print(f\"Train loss:{train_loss:.4f} | Test loss {test_loss:.4f} | Test acc:{test_acc:.4f}\")\n",
    "\n",
    "train_time_end_cpu = timer()\n",
    "total_trg_time_model_0 = print_train_time(\n",
    "    start=train_time_start_cpu,\n",
    "    end=train_time_end_cpu,\n",
    "    device=str(next(model_0.parameters()).device)\n",
    ")"
   ]
  },
  {
   "cell_type": "markdown",
   "metadata": {},
   "source": [
    "# Make predictions and get model_0 results"
   ]
  },
  {
   "cell_type": "code",
   "execution_count": 42,
   "metadata": {},
   "outputs": [
    {
     "data": {
      "application/vnd.jupyter.widget-view+json": {
       "model_id": "3a5fcaac6b5c406f9b33cf03f52db46d",
       "version_major": 2,
       "version_minor": 0
      },
      "text/plain": [
       "  0%|          | 0/313 [00:00<?, ?it/s]"
      ]
     },
     "metadata": {},
     "output_type": "display_data"
    },
    {
     "data": {
      "text/plain": [
       "{'name': 'FashionModel0', 'loss': 0.5192575454711914, 'acc': 81.93889776357827}"
      ]
     },
     "execution_count": 42,
     "metadata": {},
     "output_type": "execute_result"
    }
   ],
   "source": [
    "def eval_model(model, dataloader, loss_fn, accuracy_fn):\n",
    "    \"\"\"Returns a dict containig the results of a model predicting on data_loader\"\"\"\n",
    "    loss, acc = 0, 0\n",
    "    model.eval()\n",
    "    device = next(model.parameters()).device\n",
    "    with torch.inference_mode():\n",
    "        for X,y in tqdm(dataloader):\n",
    "            X,y = X.to(device), y.to(device)\n",
    "            y_preds = model(X)\n",
    "            \n",
    "            loss+=loss_fn(y_preds, y) # loss accumulation requires softmaxed values\n",
    "            acc+=accuracy_fn(y, y_preds.argmax(dim=1))\n",
    "\n",
    "        # scale loss and acc to find average loss/acc per batch\n",
    "        loss /= len(dataloader)\n",
    "        acc /= len(dataloader)\n",
    "\n",
    "    return {\n",
    "        \"name\": model.__class__.__name__,\n",
    "        \"loss\": loss.item(),\n",
    "        \"acc\": acc\n",
    "    }\n",
    "\n",
    "# Calculate model 0 resuts on test dataset\n",
    "res = eval_model(\n",
    "    model=model_0,\n",
    "    dataloader=test_dl,\n",
    "    loss_fn=loss_fn,\n",
    "    accuracy_fn=accuracy_fn\n",
    ")\n",
    "\n",
    "res"
   ]
  },
  {
   "cell_type": "markdown",
   "metadata": {},
   "source": [
    "# Building a non-linear model\n",
    "Let's implement a model with non-linearity"
   ]
  },
  {
   "cell_type": "code",
   "execution_count": 34,
   "metadata": {},
   "outputs": [],
   "source": [
    "import torch\n",
    "from torch import nn\n",
    "class FashionModel1(nn.Module):\n",
    "    def __init__(self,in_features, hidden_units, out_features):\n",
    "        super().__init__()\n",
    "        self.layer_stack = nn.Sequential(\n",
    "            nn.Flatten(),\n",
    "            nn.Linear(in_features=in_features, out_features=hidden_units),\n",
    "            nn.ReLU(),\n",
    "            nn.Linear(in_features=hidden_units, out_features=out_features)\n",
    "        )\n",
    "    \n",
    "    def forward(self, x):\n",
    "        return self.layer_stack(x)\n",
    "    \n",
    "model_1 = FashionModel1(\n",
    "    in_features=28*28, hidden_units=10,out_features=10\n",
    ")"
   ]
  },
  {
   "cell_type": "markdown",
   "metadata": {},
   "source": [
    "## Set up loss and optimizer"
   ]
  },
  {
   "cell_type": "code",
   "execution_count": 35,
   "metadata": {},
   "outputs": [],
   "source": [
    "loss_fn = nn.CrossEntropyLoss() # same cross\n",
    "optim_1 = torch.optim.SGD(\n",
    "    params=model_1.parameters(),\n",
    "    lr=0.1\n",
    ")\n",
    "\n",
    "from helper_functions import accuracy_fn"
   ]
  },
  {
   "cell_type": "markdown",
   "metadata": {},
   "source": [
    "## Functionizing training and testing loops\n",
    "Let's create a function for training (`train_step()`) and testing (`test_step()`)"
   ]
  },
  {
   "cell_type": "code",
   "execution_count": 36,
   "metadata": {},
   "outputs": [],
   "source": [
    "def train_step(dl: DataLoader, model: nn.Module, loss_fn: nn.Module, optim: torch.optim.Optimizer):\n",
    "    train_loss, train_acc = 0, 0\n",
    "    model.train()\n",
    "    device = next(model.parameters()).device\n",
    "    for X,y in dl:\n",
    "        # You can choose to enumerate through so that you can have a batch variable (as above)\n",
    "        X, y = X.to(device), y.to(device)\n",
    "        y_preds = model(X)\n",
    "        loss = loss_fn(y_preds, y)\n",
    "        optim.zero_grad()\n",
    "        loss.backward()\n",
    "        optim.step()\n",
    "        train_loss+=loss\n",
    "        train_acc += accuracy_fn(y, y_preds.argmax(dim=1))\n",
    "    train_loss/=len(dl)\n",
    "    train_acc/=len(dl)\n",
    "    print(f\"Training loss={train_loss:.4f}, accuracy={train_acc:.4f}\")"
   ]
  },
  {
   "cell_type": "code",
   "execution_count": 37,
   "metadata": {},
   "outputs": [],
   "source": [
    "def test_step(dl: DataLoader, model: nn.Module, loss_fn: nn.Module):\n",
    "    test_loss, test_acc = 0,0\n",
    "    model.eval()\n",
    "    device = next(model.parameters()).device\n",
    "    with torch.inference_mode():\n",
    "        for X,y in dl:\n",
    "            X, y = X.to(device), y.to(device)\n",
    "            # Forward pass\n",
    "            test_preds = model(X)\n",
    "            test_loss += loss_fn(test_preds, y)\n",
    "            test_acc += accuracy_fn(y, test_preds.argmax(dim=1))\n",
    "        test_loss/=len(dl)\n",
    "        test_acc/=len(dl)\n",
    "        print(f\"Test loss = {test_loss:.5f}, acc = {test_acc:.2f}\")"
   ]
  },
  {
   "cell_type": "code",
   "execution_count": 41,
   "metadata": {},
   "outputs": [
    {
     "data": {
      "application/vnd.jupyter.widget-view+json": {
       "model_id": "24bf7718e44d46b8bd543ce6957e8589",
       "version_major": 2,
       "version_minor": 0
      },
      "text/plain": [
       "  0%|          | 0/8 [00:00<?, ?it/s]"
      ]
     },
     "metadata": {},
     "output_type": "display_data"
    },
    {
     "name": "stdout",
     "output_type": "stream",
     "text": [
      "Training loss=0.4138, accuracy=85.2383\n",
      "Test loss = 0.44001, acc = 84.53\n",
      "Training loss=0.4097, accuracy=85.5000\n",
      "Test loss = 0.44030, acc = 84.64\n",
      "Training loss=0.4082, accuracy=85.4700\n",
      "Test loss = 0.45760, acc = 84.05\n",
      "Training loss=0.4023, accuracy=85.5700\n",
      "Test loss = 0.45354, acc = 83.98\n",
      "Training loss=0.3994, accuracy=85.6500\n",
      "Test loss = 0.55846, acc = 80.05\n",
      "Training loss=0.3972, accuracy=85.7550\n",
      "Test loss = 0.46955, acc = 83.74\n",
      "Training loss=0.3932, accuracy=85.9600\n",
      "Test loss = 0.47731, acc = 83.68\n",
      "Training loss=0.3915, accuracy=85.9867\n",
      "Test loss = 0.44584, acc = 84.16\n",
      "Train time on cpu: 58.942s\n"
     ]
    },
    {
     "data": {
      "application/vnd.jupyter.widget-view+json": {
       "model_id": "763e2c7cc92248bb9b608462ee38c4c3",
       "version_major": 2,
       "version_minor": 0
      },
      "text/plain": [
       "  0%|          | 0/8 [00:00<?, ?it/s]"
      ]
     },
     "metadata": {},
     "output_type": "display_data"
    },
    {
     "name": "stdout",
     "output_type": "stream",
     "text": [
      "Training loss=0.3907, accuracy=85.9400\n",
      "Test loss = 0.47532, acc = 83.02\n",
      "Training loss=0.3882, accuracy=86.1317\n",
      "Test loss = 0.46235, acc = 83.70\n",
      "Training loss=0.3850, accuracy=86.2900\n",
      "Test loss = 0.46866, acc = 83.50\n",
      "Training loss=0.3828, accuracy=86.1867\n",
      "Test loss = 0.43916, acc = 84.86\n",
      "Training loss=0.3832, accuracy=86.2683\n",
      "Test loss = 0.50959, acc = 82.28\n",
      "Training loss=0.3809, accuracy=86.2600\n",
      "Test loss = 0.45186, acc = 83.89\n",
      "Training loss=0.3795, accuracy=86.3967\n",
      "Test loss = 0.44455, acc = 84.45\n",
      "Training loss=0.3776, accuracy=86.4333\n",
      "Test loss = 0.47310, acc = 83.97\n",
      "Train time on gpu: 58.458s\n"
     ]
    },
    {
     "data": {
      "text/plain": [
       "58.45762712499709"
      ]
     },
     "execution_count": 41,
     "metadata": {},
     "output_type": "execute_result"
    }
   ],
   "source": [
    "# Create a model and mount it to separate devices\n",
    "model_1_cpu = model_1.to(\"cpu\")\n",
    "model_1_gpu = model_1.to(DEVICE)\n",
    "\n",
    "from timeit import default_timer as timer\n",
    "from tqdm.auto import tqdm\n",
    "epochs = 8\n",
    "\n",
    "start = timer()\n",
    "for epoch in tqdm(range(epochs)):\n",
    "    train_step(train_dl,model_1_cpu,loss_fn,optim_1)\n",
    "    test_step(test_dl,model_1_cpu,loss_fn)\n",
    "end = timer()\n",
    "print_train_time(start,end,\"cpu\")\n",
    "start = timer()\n",
    "\n",
    "start=timer()\n",
    "for epoch in tqdm(range(epochs)):\n",
    "    train_step(train_dl,model_1_gpu,loss_fn,optim_1)\n",
    "    test_step(test_dl,model_1_gpu,loss_fn)\n",
    "end = timer()\n",
    "print_train_time(start,end,\"gpu\")"
   ]
  },
  {
   "cell_type": "code",
   "execution_count": 45,
   "metadata": {},
   "outputs": [
    {
     "data": {
      "application/vnd.jupyter.widget-view+json": {
       "model_id": "dd92ddc1ceb14081b8282bf1b7debb91",
       "version_major": 2,
       "version_minor": 0
      },
      "text/plain": [
       "  0%|          | 0/313 [00:00<?, ?it/s]"
      ]
     },
     "metadata": {},
     "output_type": "display_data"
    },
    {
     "data": {
      "application/vnd.jupyter.widget-view+json": {
       "model_id": "28c514cb615940de9bc46358ed8928c4",
       "version_major": 2,
       "version_minor": 0
      },
      "text/plain": [
       "  0%|          | 0/313 [00:00<?, ?it/s]"
      ]
     },
     "metadata": {},
     "output_type": "display_data"
    },
    {
     "data": {
      "text/plain": [
       "True"
      ]
     },
     "execution_count": 45,
     "metadata": {},
     "output_type": "execute_result"
    }
   ],
   "source": [
    "# Get model 1 accuracy\n",
    "model_1_cpu_results = eval_model(\n",
    "    model=model_1_cpu,\n",
    "    dataloader=test_dl,\n",
    "    loss_fn=loss_fn,\n",
    "    accuracy_fn=accuracy_fn\n",
    ")\n",
    "\n",
    "model_1_gpu_results = eval_model(\n",
    "    model=model_1_gpu,\n",
    "    dataloader=test_dl,\n",
    "    loss_fn=loss_fn,\n",
    "    accuracy_fn=accuracy_fn\n",
    ")\n",
    "model_1_cpu_results == model_1_gpu_results # 84% accuracy"
   ]
  },
  {
   "cell_type": "markdown",
   "metadata": {},
   "source": [
    "# Model 2: Convolutional Neural Networks\n",
    "\n",
    "They have an additional conv2d and max pooling layers \n",
    "Visit https://poloclub.github.io/cnn-explainer for theory behind it"
   ]
  },
  {
   "cell_type": "code",
   "execution_count": 125,
   "metadata": {},
   "outputs": [],
   "source": [
    "# Create convolutional neural network\n",
    "class FashionModel2(nn.Module):\n",
    "    def __init__(self, in_shape, out_shape, hidden_units):\n",
    "        super().__init__()\n",
    "        self.conv_block_1 = nn.Sequential(\n",
    "            nn.Conv2d(\n",
    "                in_channels=in_shape,\n",
    "                out_channels=hidden_units,\n",
    "                kernel_size=3,\n",
    "                stride=1,\n",
    "                padding=1\n",
    "            ),\n",
    "            nn.ReLU(),\n",
    "            nn.Conv2d(\n",
    "                in_channels=hidden_units,\n",
    "                out_channels=hidden_units,\n",
    "                kernel_size=3,\n",
    "                stride=1,\n",
    "                padding=1\n",
    "            ),\n",
    "            nn.ReLU(),\n",
    "            nn.MaxPool2d(kernel_size=2)\n",
    "        )\n",
    "\n",
    "        self.conv_block_2 = nn.Sequential(\n",
    "            nn.Conv2d(\n",
    "                in_channels=hidden_units,\n",
    "                out_channels=hidden_units,\n",
    "                kernel_size=3,\n",
    "                stride=1,\n",
    "                padding=1,\n",
    "            ),\n",
    "            nn.ReLU(),\n",
    "            nn.Conv2d(\n",
    "                in_channels=hidden_units,\n",
    "                out_channels=hidden_units,\n",
    "                kernel_size=3,\n",
    "                stride=1,\n",
    "                padding=1\n",
    "            ),\n",
    "            nn.ReLU(),\n",
    "            nn.MaxPool2d(kernel_size=2)\n",
    "        )\n",
    "        self.clf = nn.Sequential(\n",
    "            nn.Flatten(),\n",
    "            nn.Linear(\n",
    "                in_features=hidden_units*7*7,\n",
    "                out_features=out_shape\n",
    "            )\n",
    "        )\n",
    "    \n",
    "    def forward(self,x):\n",
    "        x = self.conv_block_1(x)\n",
    "        # print(f\"Output shape of conv block 1 = {x.shape}\")\n",
    "        x = self.conv_block_2(x)\n",
    "        # print(f\"Output shape of conv block 2 = {x.shape}\")\n",
    "        return self.clf(x)"
   ]
  },
  {
   "cell_type": "markdown",
   "metadata": {},
   "source": [
    "The input shape is going to be the the number of color channels in the image - for grayscale, it's black and white\n",
    "\n",
    "The output shape you will need to determine either through manual calculation or by testing/bruteforcing such that the output finally is in the shape of the out_shape (number of feature labels)"
   ]
  },
  {
   "cell_type": "code",
   "execution_count": 126,
   "metadata": {},
   "outputs": [
    {
     "data": {
      "text/plain": [
       "torch.Size([1, 28, 28])"
      ]
     },
     "execution_count": 126,
     "metadata": {},
     "output_type": "execute_result"
    }
   ],
   "source": [
    "image.shape"
   ]
  },
  {
   "cell_type": "code",
   "execution_count": 232,
   "metadata": {},
   "outputs": [
    {
     "name": "stdout",
     "output_type": "stream",
     "text": [
      "torch.Size([1, 1, 28, 28])\n"
     ]
    }
   ],
   "source": [
    "torch.manual_seed(42)\n",
    "model_2 = FashionModel2(\n",
    "    in_shape=1,\n",
    "    out_shape=10,\n",
    "    hidden_units=10\n",
    ")\n",
    "\n",
    "# Create a dummy image\n",
    "ddummy = torch.randn(size=image.unsqueeze(0).shape)\n",
    "dummy = model_2(ddummy)\n"
   ]
  },
  {
   "cell_type": "markdown",
   "metadata": {},
   "source": [
    "## Detour :: Stepping through `nn.Conv2d`\n",
    "A pass through a convolutional layer will alter (and reduce) the dimensionality of your image"
   ]
  },
  {
   "cell_type": "code",
   "execution_count": 128,
   "metadata": {},
   "outputs": [
    {
     "name": "stdout",
     "output_type": "stream",
     "text": [
      "torch.Size([3, 64, 64])\n"
     ]
    },
    {
     "data": {
      "text/plain": [
       "torch.Size([10, 62, 62])"
      ]
     },
     "execution_count": 128,
     "metadata": {},
     "output_type": "execute_result"
    }
   ],
   "source": [
    "# Create dummy data\n",
    "torch.manual_seed(42)\n",
    "\n",
    "# Create a batch of images\n",
    "images = torch.randn(size=(32,3,64,64))\n",
    "print(images[0].shape)\n",
    "test_image=images[0]\n",
    "\n",
    "# Create a single conv2d layer\n",
    "conv_layer = nn.Conv2d(\n",
    "    in_channels=3,\n",
    "    out_channels=10,\n",
    "    kernel_size=(3,3),\n",
    "    stride=1,\n",
    "    padding=0\n",
    ")\n",
    "\n",
    "conv_output = conv_layer(test_image)\n",
    "conv_output.shape"
   ]
  },
  {
   "cell_type": "markdown",
   "metadata": {},
   "source": [
    "## Detour :: Stepping through `nn.MaxPool2d`"
   ]
  },
  {
   "cell_type": "code",
   "execution_count": 129,
   "metadata": {},
   "outputs": [
    {
     "name": "stdout",
     "output_type": "stream",
     "text": [
      "Test image's ori shape=torch.Size([3, 64, 64])\n",
      "shape after conv = torch.Size([10, 62, 62])\n",
      "shape after conv and maxpool = torch.Size([10, 31, 31])\n"
     ]
    }
   ],
   "source": [
    "mp_layer = nn.MaxPool2d(kernel_size=2)\n",
    "print(f\"Test image's ori shape={test_image.shape}\")\n",
    "\n",
    "# pass through just the conv layer\n",
    "img_through_conv = conv_layer(test_image)\n",
    "print(f\"shape after conv = {img_through_conv.shape}\")\n",
    "\n",
    "img_through_both = mp_layer(img_through_conv)\n",
    "print(f\"shape after conv and maxpool = {img_through_both.shape}\")"
   ]
  },
  {
   "cell_type": "code",
   "execution_count": 130,
   "metadata": {},
   "outputs": [
    {
     "name": "stdout",
     "output_type": "stream",
     "text": [
      "torch.Size([1, 1, 2, 2])\n",
      "torch.Size([1, 1, 1, 1])\n"
     ]
    }
   ],
   "source": [
    "torch.manual_seed(42)\n",
    "# Crate a random tensor with a similar number of dimensions to our images\n",
    "rand_tensor = torch.randn(size=(1,1,2,2)) # (batch size, color channels, dimensiosn(2x2))\n",
    "# Create a max pool layer\n",
    "mp_layer = nn.MaxPool2d(\n",
    "    kernel_size=2\n",
    ")\n",
    "\n",
    "maxpooled_tensor = mp_layer(rand_tensor)\n",
    "print(rand_tensor.shape)\n",
    "print(maxpooled_tensor.shape)\n"
   ]
  },
  {
   "cell_type": "markdown",
   "metadata": {},
   "source": [
    "# Training model 2 --> \n",
    "Continue building on the FashionModel2 above by setting up a loss function and optimizer"
   ]
  },
  {
   "cell_type": "code",
   "execution_count": 131,
   "metadata": {},
   "outputs": [],
   "source": [
    "loss_fn = nn.CrossEntropyLoss()\n",
    "optimizer = torch.optim.SGD(\n",
    "    model_2.parameters(),\n",
    "    lr=0.1\n",
    ")\n",
    "from helper_functions import accuracy_fn"
   ]
  },
  {
   "cell_type": "markdown",
   "metadata": {},
   "source": [
    "## Training and testing model_2 using training and testing functions"
   ]
  },
  {
   "cell_type": "code",
   "execution_count": 134,
   "metadata": {},
   "outputs": [
    {
     "data": {
      "application/vnd.jupyter.widget-view+json": {
       "model_id": "58ba54b8d26e429d9d714f82f8db5f97",
       "version_major": 2,
       "version_minor": 0
      },
      "text/plain": [
       "  0%|          | 0/3 [00:00<?, ?it/s]"
      ]
     },
     "metadata": {},
     "output_type": "display_data"
    },
    {
     "name": "stdout",
     "output_type": "stream",
     "text": [
      "Epoch 0:---\n",
      "\n",
      "Training loss=0.3027, accuracy=89.0583\n",
      "Test loss = 0.32573, acc = 88.45\n",
      "Epoch 1:---\n",
      "\n",
      "Training loss=0.2877, accuracy=89.6600\n",
      "Test loss = 0.30183, acc = 89.12\n",
      "Epoch 2:---\n",
      "\n",
      "Training loss=0.2766, accuracy=90.0300\n",
      "Test loss = 0.28725, acc = 89.78\n",
      "Time needed to train = -40.440874958992936\n"
     ]
    }
   ],
   "source": [
    "torch.manual_seed(42)\n",
    "from timeit import default_timer as timer\n",
    "epochs = 3\n",
    "start = timer()\n",
    "model_2 = model_2.to(\"mps\")\n",
    "for epoch in tqdm(range(epochs)):\n",
    "    print(f\"Epoch {epoch}:---\\n\")\n",
    "    train_step(\n",
    "        dl=train_dl,\n",
    "        model=model_2,\n",
    "        optim=optimizer,\n",
    "        loss_fn=loss_fn\n",
    "    )\n",
    "    test_step(\n",
    "        test_dl,\n",
    "        model_2,\n",
    "        loss_fn\n",
    "    )\n",
    "end = timer()\n",
    "print(f\"Time needed to train = {end-start}\")"
   ]
  },
  {
   "cell_type": "markdown",
   "metadata": {},
   "source": [
    "At a lr=0.1, this took 2 minutes to train on CPU, but only needed 40 seconds to train on the GPU."
   ]
  },
  {
   "cell_type": "code",
   "execution_count": 136,
   "metadata": {},
   "outputs": [
    {
     "data": {
      "application/vnd.jupyter.widget-view+json": {
       "model_id": "265e09b27e8643f3a9cda0f26be8b40c",
       "version_major": 2,
       "version_minor": 0
      },
      "text/plain": [
       "  0%|          | 0/313 [00:00<?, ?it/s]"
      ]
     },
     "metadata": {},
     "output_type": "display_data"
    },
    {
     "data": {
      "text/plain": [
       "{'name': 'FashionModel2',\n",
       " 'loss': 0.28725486993789673,\n",
       " 'acc': 89.77635782747603}"
      ]
     },
     "execution_count": 136,
     "metadata": {},
     "output_type": "execute_result"
    }
   ],
   "source": [
    "# Let's calculate the model results! \n",
    "model_2_res = eval_model(model_2,test_dl,loss_fn,accuracy_fn)\n",
    "model_2_res\n"
   ]
  },
  {
   "cell_type": "markdown",
   "metadata": {},
   "source": [
    "# Compare model results and training time"
   ]
  },
  {
   "cell_type": "code",
   "execution_count": 208,
   "metadata": {},
   "outputs": [],
   "source": [
    "import pandas as pd\n",
    "\n",
    "compare_res = pd.DataFrame(\n",
    "    [model_1_cpu_results, model_2_res] # I didn't add model_0\n",
    ")\n",
    "\n",
    "# Add training time to result comparison\n",
    "# It's important to see if the increase in acc is justified by the speed loss\n",
    "\n",
    "# I didn't set up the training times as variables above, but you can just do this\n",
    "# compare_res[trg_time] = [ListOfTrainingTimeValues]"
   ]
  },
  {
   "cell_type": "markdown",
   "metadata": {},
   "source": [
    "# Make predictions with random images - let's test!"
   ]
  },
  {
   "cell_type": "code",
   "execution_count": 209,
   "metadata": {},
   "outputs": [],
   "source": [
    "def make_preds(\n",
    "        model: nn.Module,\n",
    "        data: list,\n",
    "        device: torch.device=torch.device(\"mps\")\n",
    "):\n",
    "    pred_probs = []\n",
    "    model.eval()\n",
    "    with torch.inference_mode():\n",
    "        for sample in data:\n",
    "            # Prepare the sample and pass to target device\n",
    "            sample = torch.unsqueeze(sample, dim=0).to(device)\n",
    "            \n",
    "            pred_logit = model(sample)\n",
    "            pred_prob = torch.softmax(pred_logit.squeeze(),dim=0)\n",
    "            pred_probs.append(pred_prob)\n",
    "    \n",
    "    return torch.stack(pred_probs)"
   ]
  },
  {
   "cell_type": "code",
   "execution_count": 210,
   "metadata": {},
   "outputs": [
    {
     "data": {
      "text/plain": [
       "Text(0.5, 1.0, 'Trouser')"
      ]
     },
     "execution_count": 210,
     "metadata": {},
     "output_type": "execute_result"
    },
    {
     "data": {
      "image/png": "[encoded data removed]",
      "text/plain": [
       "<Figure size 640x480 with 1 Axes>"
      ]
     },
     "metadata": {},
     "output_type": "display_data"
    }
   ],
   "source": [
    "import random\n",
    "test_samples = []\n",
    "test_labels = []\n",
    "for sample, label in random.sample(list(test_data),k=9):\n",
    "    test_samples.append(sample)\n",
    "    test_labels.append(label)\n",
    "\n",
    "\n",
    "\n",
    "plt.imshow(test_samples[0].squeeze(), cmap='gray')\n",
    "plt.title(class_names[test_labels[0]])"
   ]
  },
  {
   "cell_type": "code",
   "execution_count": 225,
   "metadata": {},
   "outputs": [
    {
     "name": "stdout",
     "output_type": "stream",
     "text": [
      "torch.Size([9, 10])\n"
     ]
    }
   ],
   "source": [
    "x = make_preds(model_2, test_samples)\n",
    "print(x.shape) # will give (9,10).\n",
    "\n",
    "# you NEED to argmax the dimension that corresponds to the number of feature labels (10)!!!!!\n",
    "pred_labels = x.argmax(dim=1)"
   ]
  },
  {
   "cell_type": "code",
   "execution_count": null,
   "metadata": {},
   "outputs": [],
   "source": []
  },
  {
   "cell_type": "code",
   "execution_count": 226,
   "metadata": {},
   "outputs": [
    {
     "data": {
      "image/png": "[encoded data removed]",
      "text/plain": [
       "<Figure size 900x900 with 9 Axes>"
      ]
     },
     "metadata": {},
     "output_type": "display_data"
    }
   ],
   "source": [
    "# Plot predictions\n",
    "plt.figure(figsize=(9,9))\n",
    "nrows, ncols = 3,3\n",
    "for i, sample in enumerate(test_samples):\n",
    "    plt.subplot(nrows,ncols, i+1)\n",
    "    plt.imshow(sample.squeeze(), cmap='gray')\n",
    "    pred_label = class_names[pred_labels[i]]\n",
    "    true_label = class_names[test_labels[i]]\n",
    "\n",
    "    title = f\"Pred={pred_label} | True={true_label}\"\n",
    "    \n",
    "    if pred_label==true_label:\n",
    "        plt.title(pred_label, fontsize=10, c='g') # green color if true\n",
    "    else:\n",
    "        plt.title(title, fontsize=10, c='r') # green color if true\n"
   ]
  },
  {
   "cell_type": "markdown",
   "metadata": {},
   "source": [
    "# A confusion matrix\n",
    "A deeper way to visualise and evaluating model performance using a confusion matrix\n",
    "\n",
    "1. Make predictions with trained model on the test dataset\n",
    "2. Use `torchmetrics` to help us !\n",
    "3. Plot the matrix using mlxtend"
   ]
  },
  {
   "cell_type": "code",
   "execution_count": 238,
   "metadata": {},
   "outputs": [
    {
     "data": {
      "application/vnd.jupyter.widget-view+json": {
       "model_id": "df5d10238eab43d6b8ec722e00b25580",
       "version_major": 2,
       "version_minor": 0
      },
      "text/plain": [
       "making predictions:   0%|          | 0/313 [00:00<?, ?it/s]"
      ]
     },
     "metadata": {},
     "output_type": "display_data"
    },
    {
     "data": {
      "text/plain": [
       "tensor([9, 2, 4,  ..., 9, 4, 3])"
      ]
     },
     "execution_count": 238,
     "metadata": {},
     "output_type": "execute_result"
    }
   ],
   "source": [
    "from torchmetrics import ConfusionMatrix\n",
    "import mlxtend\n",
    "from tqdm.auto import tqdm\n",
    "\n",
    "y_preds=[]\n",
    "model_2.eval()\n",
    "with torch.inference_mode():\n",
    "    for X,y in tqdm(test_dl, \"making predictions\"):\n",
    "        # send data to target device\n",
    "        y_logit = model_2(X)\n",
    "        y_pred = torch.softmax(y_logit.squeeze(), dim=0).argmax(dim=1)\n",
    "        y_preds.append(y_pred.cpu())\n",
    "\n",
    "y_pred_tensor = torch.cat(y_preds)\n",
    "y_pred_tensor"
   ]
  },
  {
   "cell_type": "code",
   "execution_count": 239,
   "metadata": {},
   "outputs": [
    {
     "data": {
      "text/plain": [
       "'0.23.0'"
      ]
     },
     "execution_count": 239,
     "metadata": {},
     "output_type": "execute_result"
    }
   ],
   "source": []
  }
 ],
 "metadata": {
  "kernelspec": {
   "display_name": "ml",
   "language": "python",
   "name": "python3"
  },
  "language_info": {
   "codemirror_mode": {
    "name": "ipython",
    "version": 3
   },
   "file_extension": ".py",
   "mimetype": "text/x-python",
   "name": "python",
   "nbconvert_exporter": "python",
   "pygments_lexer": "ipython3",
   "version": "3.11.7"
  }
 },
 "nbformat": 4,
 "nbformat_minor": 2
}
