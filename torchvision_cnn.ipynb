{
 "cells": [
  {
   "cell_type": "markdown",
   "metadata": {},
   "source": [
    "# Computer vision application with torchvision"
   ]
  },
  {
   "cell_type": "code",
   "execution_count": 39,
   "metadata": {},
   "outputs": [
    {
     "data": {
      "text/plain": [
       "'mps'"
      ]
     },
     "execution_count": 39,
     "metadata": {},
     "output_type": "execute_result"
    }
   ],
   "source": [
    "DEVICE, FORCE_CPU = \"cpu\", False\n",
    "if not FORCE_CPU and torch.backends.mps.is_available():\n",
    "    DEVICE=\"mps\"\n",
    "elif not FORCE_CPU and torch.cuda.is_available():\n",
    "    DEVICE=\"cuda\"\n",
    "DEVICE"
   ]
  },
  {
   "cell_type": "markdown",
   "metadata": {},
   "source": [
    "## Import dependencies"
   ]
  },
  {
   "cell_type": "code",
   "execution_count": 10,
   "metadata": {},
   "outputs": [],
   "source": [
    "import torch\n",
    "from torch import nn\n",
    "\n",
    "import torchvision\n",
    "from torchvision import datasets\n",
    "# from torchvision import transforms\n",
    "# from torchvision.transforms import ToTensor\n",
    "\n",
    "import matplotlib.pyplot as plt"
   ]
  },
  {
   "cell_type": "markdown",
   "metadata": {},
   "source": [
    "### Import dataset from torchvision\n",
    "We are using FashionMNIST"
   ]
  },
  {
   "cell_type": "code",
   "execution_count": 11,
   "metadata": {},
   "outputs": [],
   "source": [
    "train_data = datasets.FashionMNIST(\n",
    "    root=\"data\",\n",
    "    train=True,\n",
    "    download=True,\n",
    "    transform=torchvision.transforms.ToTensor(),\n",
    "    target_transform=None\n",
    ")\n",
    "test_data = datasets.FashionMNIST(\n",
    "    root=\"data\",\n",
    "    train=False,\n",
    "    download=True,\n",
    "    transform=torchvision.transforms.ToTensor(),\n",
    "    target_transform=None\n",
    ")"
   ]
  },
  {
   "cell_type": "markdown",
   "metadata": {},
   "source": [
    "### Data inspection\n",
    "Find out more about the dataset that we are using\n",
    "\n",
    "You can inspect the attributes of the class by just typing `train_data.` and see what comes up"
   ]
  },
  {
   "cell_type": "code",
   "execution_count": 12,
   "metadata": {},
   "outputs": [
    {
     "data": {
      "text/plain": [
       "(60000, 10000)"
      ]
     },
     "execution_count": 12,
     "metadata": {},
     "output_type": "execute_result"
    }
   ],
   "source": [
    "len(train_data), len(test_data)"
   ]
  },
  {
   "cell_type": "code",
   "execution_count": 13,
   "metadata": {},
   "outputs": [
    {
     "name": "stdout",
     "output_type": "stream",
     "text": [
      "<class 'tuple'>\n",
      "2\n",
      "image.shape=torch.Size([1, 28, 28])\n",
      "label=9\n"
     ]
    }
   ],
   "source": [
    "# See the first training example\n",
    "print(type(train_data[0])) # Tuple\n",
    "print(len(train_data[0])) # length 2\n",
    "image, label = train_data[0]\n",
    "print(f\"image.shape={image.shape}\") # (1,28,28)\n",
    "# Each image is 28x28 and only has 1 color channel because it is grayscale\n",
    "print(f\"label={label}\")"
   ]
  },
  {
   "cell_type": "code",
   "execution_count": 14,
   "metadata": {},
   "outputs": [
    {
     "data": {
      "text/plain": [
       "['T-shirt/top',\n",
       " 'Trouser',\n",
       " 'Pullover',\n",
       " 'Dress',\n",
       " 'Coat',\n",
       " 'Sandal',\n",
       " 'Shirt',\n",
       " 'Sneaker',\n",
       " 'Bag',\n",
       " 'Ankle boot']"
      ]
     },
     "execution_count": 14,
     "metadata": {},
     "output_type": "execute_result"
    }
   ],
   "source": [
    "class_names = train_data.classes\n",
    "class_names"
   ]
  },
  {
   "cell_type": "code",
   "execution_count": 15,
   "metadata": {},
   "outputs": [
    {
     "data": {
      "text/plain": [
       "{'T-shirt/top': 0,\n",
       " 'Trouser': 1,\n",
       " 'Pullover': 2,\n",
       " 'Dress': 3,\n",
       " 'Coat': 4,\n",
       " 'Sandal': 5,\n",
       " 'Shirt': 6,\n",
       " 'Sneaker': 7,\n",
       " 'Bag': 8,\n",
       " 'Ankle boot': 9}"
      ]
     },
     "execution_count": 15,
     "metadata": {},
     "output_type": "execute_result"
    }
   ],
   "source": [
    "# Returns an enumerated dict of the class list\n",
    "class_to_idx = train_data.class_to_idx\n",
    "class_to_idx"
   ]
  },
  {
   "cell_type": "markdown",
   "metadata": {},
   "source": [
    "We now know that input is a 28x28 grayscale image that's encoded as a tuple, and output that ranges from 0-9 which represents a class/category that the image falls into\n",
    "\n",
    "## Visualize the data\n",
    "\n",
    "Running `plt.imshow(image)` returns an error because mpl expects the image channel to come last. Therefore, **we have to remove that dimension when plotting**"
   ]
  },
  {
   "cell_type": "code",
   "execution_count": 16,
   "metadata": {},
   "outputs": [
    {
     "data": {
      "text/plain": [
       "<matplotlib.image.AxesImage at 0x295e0e8d0>"
      ]
     },
     "execution_count": 16,
     "metadata": {},
     "output_type": "execute_result"
    },
    {
     "data": {
      "image/png": "[encoded data removed]",
      "text/plain": [
       "<Figure size 640x480 with 1 Axes>"
      ]
     },
     "metadata": {},
     "output_type": "display_data"
    }
   ],
   "source": [
    "plt.imshow(image.squeeze(), cmap='gray') # .squeeze removes the extra dimension of size 1"
   ]
  },
  {
   "cell_type": "markdown",
   "metadata": {},
   "source": [
    "### A common pattern when it comes to inspecting data:\n",
    "\n",
    "#### 1) Generate some kind of random index using \n",
    "```python\n",
    "rand_idx = torch.randint(start, end, size=(1,)).item()\n",
    "```\n",
    "`size=[1]` or `size=(1,)` parameter specifies the size of the output tensor as a tuple, and `.item()` returns the only item in a tensor of size 1 (turns tensor into value)\n",
    "\n",
    "#### 2) Index an instance of training data (X, y) to the random index in the overall dataset\n",
    "`X, y = training_data[rand_idx]`\n",
    "\n",
    "#### 3) Display using pyplot\n",
    "`plt.imshow(X.squeeze(), cmap=gray)` and title being `plt.title(class_names[y])`"
   ]
  },
  {
   "cell_type": "code",
   "execution_count": 17,
   "metadata": {},
   "outputs": [
    {
     "data": {
      "image/png": "[encoded data removed]",
      "text/plain": [
       "<Figure size 900x900 with 16 Axes>"
      ]
     },
     "metadata": {},
     "output_type": "display_data"
    }
   ],
   "source": [
    "# Plot more images\n",
    "torch.manual_seed(1001)\n",
    "fig = plt.figure(figsize=(9,9))\n",
    "rows, cols= 4, 4\n",
    "for i in range(1,rows*cols+1):\n",
    "    rand_idx = torch.randint(0,len(train_data),size=(1,)).item()\n",
    "    img, label = train_data[rand_idx]\n",
    "    fig.add_subplot(rows,cols,i)\n",
    "    plt.imshow(img.squeeze(), cmap='gray')\n",
    "    plt.title(class_names[label]) # access the name of class based on train_data.class_to_idx dict provided\n",
    "    plt.axis(False)"
   ]
  },
  {
   "cell_type": "markdown",
   "metadata": {},
   "source": [
    "# Preparing a DataLoader\n",
    "Right now, our data is in the form of a dataset.\n",
    "DataLoader turns our dataset into a Python iterable.\n",
    "In particular, we want to turn our data into *batches/minibatches*.\n",
    "\n",
    "Why?\n",
    "\n",
    "1. For large datasets, it is not feasible to load the entire dataset into memory at a single go especially when the dataset becomes bigger and images become more detailed. So we brek it down into mini-batches\n",
    "\n",
    "2. It gives the neural network more changes to update its gradients per epoch (watch mini batch gradient descent by andrew ng)"
   ]
  },
  {
   "cell_type": "code",
   "execution_count": 18,
   "metadata": {},
   "outputs": [],
   "source": [
    "from torch.utils.data import DataLoader"
   ]
  },
  {
   "cell_type": "code",
   "execution_count": 19,
   "metadata": {},
   "outputs": [],
   "source": [
    "BATCH_SIZE = 32"
   ]
  },
  {
   "cell_type": "code",
   "execution_count": 20,
   "metadata": {},
   "outputs": [],
   "source": [
    "train_dl = DataLoader(\n",
    "    dataset=train_data,\n",
    "    batch_size=BATCH_SIZE,\n",
    "    shuffle=True\n",
    "    )\n",
    "test_dl = DataLoader(\n",
    "    dataset=test_data,\n",
    "    batch_size=BATCH_SIZE,\n",
    "    shuffle=False # there's no need to shuffle data here.\n",
    "    )"
   ]
  },
  {
   "cell_type": "code",
   "execution_count": 21,
   "metadata": {},
   "outputs": [
    {
     "data": {
      "text/plain": [
       "(torch.Size([32, 1, 28, 28]), torch.Size([32]))"
      ]
     },
     "execution_count": 21,
     "metadata": {},
     "output_type": "execute_result"
    }
   ],
   "source": [
    "# Inspect a training dataloader\n",
    "train_features_batch, train_labels_batch = next(iter(train_dl))\n",
    "train_features_batch.shape, train_labels_batch.shape"
   ]
  },
  {
   "cell_type": "code",
   "execution_count": 22,
   "metadata": {},
   "outputs": [
    {
     "data": {
      "image/png": "[encoded data removed]",
      "text/plain": [
       "<Figure size 640x480 with 1 Axes>"
      ]
     },
     "metadata": {},
     "output_type": "display_data"
    }
   ],
   "source": [
    "# show a sample\n",
    "# torch.manual_seed(22)\n",
    "rand_idx = torch.randint(0,BATCH_SIZE, size=[1]).item()\n",
    "img, label = train_features_batch[rand_idx], train_labels_batch[rand_idx]\n",
    "plt.imshow(img.squeeze(), cmap='gray')\n",
    "plt.title(class_names[label])\n",
    "plt.axis(False)\n",
    "plt.show()\n"
   ]
  },
  {
   "cell_type": "markdown",
   "metadata": {},
   "source": [
    "# Building a baseline model\n",
    "When starting to build ML models, its important to start with a **baseline**. A baseline model is a simple model that is improved in subsequent iterations."
   ]
  },
  {
   "cell_type": "code",
   "execution_count": 23,
   "metadata": {},
   "outputs": [
    {
     "name": "stdout",
     "output_type": "stream",
     "text": [
      "shape before=torch.Size([1, 28, 28]), shape after=torch.Size([1, 784])\n"
     ]
    }
   ],
   "source": [
    "# Create a flatten layer\n",
    "flatten_model = nn.Flatten()\n",
    "\n",
    "# Get a single sample\n",
    "x = train_features_batch[0]\n",
    "\n",
    "# flatten sample\n",
    "output = flatten_model(x)\n",
    "\n",
    "print(f\"shape before={x.shape}, shape after={output.shape}\")\n",
    "# now, we can squeeze to remove the extra dimension\n",
    "output = output.squeeze()"
   ]
  },
  {
   "cell_type": "markdown",
   "metadata": {},
   "source": [
    "The concept is to condense information into a single vector space"
   ]
  },
  {
   "cell_type": "markdown",
   "metadata": {},
   "source": [
    "## Let's create a linear vectorized model\n",
    "This consists of only a `nn.Flatten` layer and two linear layers"
   ]
  },
  {
   "cell_type": "code",
   "execution_count": 24,
   "metadata": {},
   "outputs": [],
   "source": [
    "class FashionModel0(nn.Module):\n",
    "    def __init__(self, input_shape, hidden_units, output_shape):\n",
    "        super().__init__()\n",
    "        self.layer_stack = nn.Sequential(\n",
    "            nn.Flatten(),\n",
    "            nn.Linear(in_features=input_shape, out_features=hidden_units),\n",
    "            nn.Linear(in_features=hidden_units, out_features=output_shape)\n",
    "        )\n",
    "    \n",
    "    def forward(self,x):\n",
    "        return self.layer_stack(x)"
   ]
  },
  {
   "cell_type": "code",
   "execution_count": 25,
   "metadata": {},
   "outputs": [],
   "source": [
    "torch.manual_seed(42)\n",
    "model_0=FashionModel0(\n",
    "    input_shape=28*28,\n",
    "    hidden_units=10,\n",
    "    output_shape=len(class_names)\n",
    ").to(DEVICE)"
   ]
  },
  {
   "cell_type": "code",
   "execution_count": 26,
   "metadata": {},
   "outputs": [
    {
     "data": {
      "text/plain": [
       "tensor([[ 0.1813, -0.3193,  1.3691,  0.9185, -0.1709, -1.0997, -0.3299,  1.6366,\n",
       "         -0.0506, -0.6301]], grad_fn=<AddmmBackward0>)"
      ]
     },
     "execution_count": 26,
     "metadata": {},
     "output_type": "execute_result"
    }
   ],
   "source": [
    "torch.manual_seed(42)\n",
    "dummy_x = torch.rand([1,1,28,28]).to(DEVICE)\n",
    "model_0(dummy_x) # tensor with 10 logits\n",
    "# If the flatten layer is missing, this doesn't work"
   ]
  },
  {
   "cell_type": "markdown",
   "metadata": {},
   "source": [
    "# Setting up loss, optimizer and evaluation metrics\n",
    "Since we are working with multi-class data, we would be working with cross entropy\n",
    "Let's stick with SGD\n",
    "and use Accuracy as an evaluation metric"
   ]
  },
  {
   "cell_type": "code",
   "execution_count": 27,
   "metadata": {},
   "outputs": [],
   "source": [
    "# Let's import a script from helperfunctions.py\n",
    "import requests\n",
    "from pathlib import Path\n",
    "\n",
    "#DL helper functions from learnpytorch repo\n",
    "if not Path(\"helper_functions.py\").is_file():\n",
    "    request = requests.get(\"https://raw.githubusercontent.com/mrdbourke/pytorch-deep-learning/main/helper_functions.py\")\n",
    "    with open(\"helper_functions.py\", \"wb\") as f:\n",
    "        f.write(request.content)\n",
    "    print(\"Downloading helper_functions.py\")"
   ]
  },
  {
   "cell_type": "code",
   "execution_count": 28,
   "metadata": {},
   "outputs": [],
   "source": [
    "from helper_functions import accuracy_fn\n",
    "\n",
    "loss_fn = nn.CrossEntropyLoss().to(DEVICE)\n",
    "optim= torch.optim.SGD(params=model_0.parameters(), lr=0.01)"
   ]
  },
  {
   "cell_type": "markdown",
   "metadata": {},
   "source": [
    "### Timing experiments\n",
    "You'll want to track a model's:\n",
    "1) Performance ( Loss and accuracy vals)\n",
    "2) Speed\n",
    "since this is a tradeoff\n",
    "\n",
    "So let's write a helper function to print timedeltas"
   ]
  },
  {
   "cell_type": "code",
   "execution_count": 29,
   "metadata": {},
   "outputs": [],
   "source": [
    "from timeit import default_timer as timer\n",
    "\n",
    "def print_train_time(\n",
    "        start: float,\n",
    "        end: float,\n",
    "        device: torch.device = None):\n",
    "    \"\"\"Prints delta between start and end\"\"\"\n",
    "    total = end-start\n",
    "    print(f\"Train time on {device}: {total:.3f}s\")\n",
    "    return total"
   ]
  },
  {
   "cell_type": "code",
   "execution_count": 30,
   "metadata": {},
   "outputs": [
    {
     "name": "stdout",
     "output_type": "stream",
     "text": [
      "Train time on cpu: 0.000s\n"
     ]
    },
    {
     "data": {
      "text/plain": [
       "1.0917021427303553e-05"
      ]
     },
     "execution_count": 30,
     "metadata": {},
     "output_type": "execute_result"
    }
   ],
   "source": [
    "start_time = timer()\n",
    "# some code\n",
    "end_time = timer()\n",
    "print_train_time(start=start_time, end=end_time, device=DEVICE)"
   ]
  },
  {
   "cell_type": "code",
   "execution_count": 31,
   "metadata": {},
   "outputs": [
    {
     "name": "stdout",
     "output_type": "stream",
     "text": [
      "1875\n"
     ]
    }
   ],
   "source": [
    "print(train_dl.__len__())"
   ]
  },
  {
   "cell_type": "markdown",
   "metadata": {},
   "source": [
    "# Training the baseline model\n",
    "Creating the training loop on training batches of data (using the data loader)\n",
    "\n",
    "### Basic Steps\n",
    "---\n",
    "1) Loop through epochs\n",
    "2) Loop through training batches, perform training steps, calculate the train loss **per batch**\n",
    "3) Loop through testing batches and calculate test loss **per batch**\n",
    "4) Time it, print, etc for monitoring\n",
    "\n"
   ]
  },
  {
   "cell_type": "code",
   "execution_count": 32,
   "metadata": {},
   "outputs": [
    {
     "data": {
      "application/vnd.jupyter.widget-view+json": {
       "model_id": "b95c4d2233aa41859599062db9064657",
       "version_major": 2,
       "version_minor": 0
      },
      "text/plain": [
       "  0%|          | 0/3 [00:00<?, ?it/s]"
      ]
     },
     "metadata": {},
     "output_type": "display_data"
    },
    {
     "name": "stdout",
     "output_type": "stream",
     "text": [
      "Epoch: 0\n",
      "Looked at 0/60000 samples\n"
     ]
    },
    {
     "name": "stdout",
     "output_type": "stream",
     "text": [
      "Looked at 12800/60000 samples\n",
      "Looked at 25600/60000 samples\n",
      "Looked at 38400/60000 samples\n",
      "Looked at 51200/60000 samples\n",
      "Epoch: 1\n",
      "Looked at 0/60000 samples\n",
      "Looked at 12800/60000 samples\n",
      "Looked at 25600/60000 samples\n",
      "Looked at 38400/60000 samples\n",
      "Looked at 51200/60000 samples\n",
      "Epoch: 2\n",
      "Looked at 0/60000 samples\n",
      "Looked at 12800/60000 samples\n",
      "Looked at 25600/60000 samples\n",
      "Looked at 38400/60000 samples\n",
      "Looked at 51200/60000 samples\n",
      "Train loss:0.5024 | Test loss 0.5193 | Test acc:81.9389\n",
      "Train time on cpu: 6.445s\n"
     ]
    }
   ],
   "source": [
    "from tqdm.auto import tqdm\n",
    "\n",
    "torch.manual_seed(42)\n",
    "train_time_start_cpu = timer()\n",
    "epochs = 3\n",
    "\n",
    "# Crate training and test loop\n",
    "for epoch in tqdm(range(epochs)):\n",
    "    print(f\"Epoch: {epoch}\")\n",
    "    train_loss=0\n",
    "    for batch, (X,y) in enumerate(train_dl):\n",
    "        # Move onto device\n",
    "        X = X.to(DEVICE)\n",
    "        y = y.to(DEVICE)\n",
    "\n",
    "        # Training mode\n",
    "        model_0.train()\n",
    "\n",
    "        # Forward pass\n",
    "        train_preds = model_0(X)\n",
    "\n",
    "        # Calculate loss on the BATCHED data (not individual examples)\n",
    "        loss = loss_fn(train_preds, y)\n",
    "        \n",
    "        # Accumulate losses for later\n",
    "        train_loss+=loss\n",
    "\n",
    "        optim.zero_grad()\n",
    "\n",
    "        # Backprop on the BATCHED data\n",
    "        loss.backward()\n",
    "        # Gradient step on BATCHED data\n",
    "        optim.step()\n",
    "\n",
    "        if batch % 400 == 0:\n",
    "            print(f\"Looked at {len(X)*batch}/{len(train_dl.dataset)} samples\")\n",
    "    \n",
    "    # Calculate the average training loss per batch\n",
    "    train_loss /= len(train_dl)\n",
    "\n",
    "# Testing\n",
    "test_loss, test_acc = 0,0\n",
    "model_0.eval()\n",
    "with torch.inference_mode():\n",
    "    for X_test, y_test in test_dl:\n",
    "        X_test, y_test = X_test.to(DEVICE), y_test.to(DEVICE)\n",
    "        # Forward pass\n",
    "        test_pred = model_0(X_test)\n",
    "        test_loss += loss_fn(test_pred, y_test)\n",
    "        test_acc+= accuracy_fn(y_test, test_pred.argmax(dim=1))\n",
    "    test_loss /= len(test_dl)\n",
    "    test_acc /= len(test_dl)\n",
    "\n",
    "print(f\"Train loss:{train_loss:.4f} | Test loss {test_loss:.4f} | Test acc:{test_acc:.4f}\")\n",
    "\n",
    "train_time_end_cpu = timer()\n",
    "total_trg_time_model_0 = print_train_time(\n",
    "    start=train_time_start_cpu,\n",
    "    end=train_time_end_cpu,\n",
    "    device=str(next(model_0.parameters()).device)\n",
    ")"
   ]
  },
  {
   "cell_type": "markdown",
   "metadata": {},
   "source": [
    "# Make predictions and get model_0 results"
   ]
  },
  {
   "cell_type": "code",
   "execution_count": 33,
   "metadata": {},
   "outputs": [
    {
     "data": {
      "application/vnd.jupyter.widget-view+json": {
       "model_id": "dc546c39b0c440518d930ff14db9f9fc",
       "version_major": 2,
       "version_minor": 0
      },
      "text/plain": [
       "  0%|          | 0/313 [00:00<?, ?it/s]"
      ]
     },
     "metadata": {},
     "output_type": "display_data"
    },
    {
     "data": {
      "text/plain": [
       "{'name': 'FashionModel0', 'loss': 0.5192575454711914, 'acc': 81.93889776357827}"
      ]
     },
     "execution_count": 33,
     "metadata": {},
     "output_type": "execute_result"
    }
   ],
   "source": [
    "def eval_model(model, dataloader, loss_fn, accuracy_fn):\n",
    "    \"\"\"Returns a dict containig the results of a model predicting on data_loader\"\"\"\n",
    "    loss, acc = 0, 0\n",
    "    model.eval()\n",
    "    with torch.inference_mode():\n",
    "        for X,y in tqdm(dataloader):\n",
    "            X,y = X.to(DEVICE), y.to(DEVICE)\n",
    "            y_preds = model(X)\n",
    "            \n",
    "            loss+=loss_fn(y_preds, y) # loss accumulation requires softmaxed values\n",
    "            acc+=accuracy_fn(y, y_preds.argmax(dim=1))\n",
    "\n",
    "        # scale loss and acc to find average loss/acc per batch\n",
    "        loss /= len(dataloader)\n",
    "        acc /= len(dataloader)\n",
    "\n",
    "    return {\n",
    "        \"name\": model.__class__.__name__,\n",
    "        \"loss\": loss.item(),\n",
    "        \"acc\": acc\n",
    "    }\n",
    "\n",
    "# Calculate model 0 resuts on test dataset\n",
    "res = eval_model(\n",
    "    model=model_0,\n",
    "    dataloader=test_dl,\n",
    "    loss_fn=loss_fn,\n",
    "    accuracy_fn=accuracy_fn\n",
    ")\n",
    "\n",
    "res"
   ]
  },
  {
   "cell_type": "markdown",
   "metadata": {},
   "source": [
    "# Building a non-linear model\n",
    "Let's implement a model with non-linearity"
   ]
  },
  {
   "cell_type": "code",
   "execution_count": 34,
   "metadata": {},
   "outputs": [],
   "source": [
    "import torch\n",
    "from torch import nn\n",
    "class FashionModel1(nn.Module):\n",
    "    def __init__(self,in_features, hidden_units, out_features):\n",
    "        super().__init__()\n",
    "        self.layer_stack = nn.Sequential(\n",
    "            nn.Flatten(),\n",
    "            nn.Linear(in_features=in_features, out_features=hidden_units),\n",
    "            nn.ReLU(),\n",
    "            nn.Linear(in_features=hidden_units, out_features=out_features)\n",
    "        )\n",
    "    \n",
    "    def forward(self, x):\n",
    "        return self.layer_stack(x)\n",
    "    \n",
    "model_1 = FashionModel1(\n",
    "    in_features=28*28, hidden_units=10,out_features=10\n",
    ")"
   ]
  },
  {
   "cell_type": "markdown",
   "metadata": {},
   "source": [
    "## Set up loss and optimizer"
   ]
  },
  {
   "cell_type": "code",
   "execution_count": 35,
   "metadata": {},
   "outputs": [],
   "source": [
    "loss_fn = nn.CrossEntropyLoss() # same cross\n",
    "optim_1 = torch.optim.SGD(\n",
    "    params=model_1.parameters(),\n",
    "    lr=0.1\n",
    ")\n",
    "\n",
    "from helper_functions import accuracy_fn"
   ]
  },
  {
   "cell_type": "markdown",
   "metadata": {},
   "source": [
    "## Functionizing training and testing loops\n",
    "Let's create a function for training (`train_step()`) and testing (`test_step()`)"
   ]
  },
  {
   "cell_type": "code",
   "execution_count": 36,
   "metadata": {},
   "outputs": [],
   "source": [
    "def train_step(dl: DataLoader, model: nn.Module, loss_fn: nn.Module, optim: torch.optim.Optimizer):\n",
    "    train_loss, train_acc = 0, 0\n",
    "    model.train()\n",
    "    device = next(model.parameters()).device\n",
    "    for X,y in dl:\n",
    "        # You can choose to enumerate through so that you can have a batch variable (as above)\n",
    "        X, y = X.to(device), y.to(device)\n",
    "        y_preds = model(X)\n",
    "        loss = loss_fn(y_preds, y)\n",
    "        optim.zero_grad()\n",
    "        loss.backward()\n",
    "        optim.step()\n",
    "        train_loss+=loss\n",
    "        train_acc += accuracy_fn(y, y_preds.argmax(dim=1))\n",
    "    train_loss/=len(dl)\n",
    "    train_acc/=len(dl)\n",
    "    print(f\"Training loss={train_loss:.4f}, accuracy={train_acc:.4f}\")"
   ]
  },
  {
   "cell_type": "code",
   "execution_count": 37,
   "metadata": {},
   "outputs": [],
   "source": [
    "def test_step(dl: DataLoader, model: nn.Module, loss_fn: nn.Module):\n",
    "    test_loss, test_acc = 0,0\n",
    "    model.eval()\n",
    "    device = next(model.parameters()).device\n",
    "    with torch.inference_mode():\n",
    "        for X,y in dl:\n",
    "            X, y = X.to(device), y.to(device)\n",
    "            # Forward pass\n",
    "            test_preds = model(X)\n",
    "            test_loss += loss_fn(test_preds, y)\n",
    "            test_acc += accuracy_fn(y, test_preds.argmax(dim=1))\n",
    "        test_loss/=len(dl)\n",
    "        test_acc/=len(dl)\n",
    "        print(f\"Test loss = {test_loss:.5f}, acc = {test_acc:.2f}\")"
   ]
  },
  {
   "cell_type": "code",
   "execution_count": 41,
   "metadata": {},
   "outputs": [
    {
     "data": {
      "application/vnd.jupyter.widget-view+json": {
       "model_id": "24bf7718e44d46b8bd543ce6957e8589",
       "version_major": 2,
       "version_minor": 0
      },
      "text/plain": [
       "  0%|          | 0/8 [00:00<?, ?it/s]"
      ]
     },
     "metadata": {},
     "output_type": "display_data"
    },
    {
     "name": "stdout",
     "output_type": "stream",
     "text": [
      "Training loss=0.4138, accuracy=85.2383\n",
      "Test loss = 0.44001, acc = 84.53\n",
      "Training loss=0.4097, accuracy=85.5000\n",
      "Test loss = 0.44030, acc = 84.64\n",
      "Training loss=0.4082, accuracy=85.4700\n",
      "Test loss = 0.45760, acc = 84.05\n",
      "Training loss=0.4023, accuracy=85.5700\n",
      "Test loss = 0.45354, acc = 83.98\n",
      "Training loss=0.3994, accuracy=85.6500\n",
      "Test loss = 0.55846, acc = 80.05\n",
      "Training loss=0.3972, accuracy=85.7550\n",
      "Test loss = 0.46955, acc = 83.74\n",
      "Training loss=0.3932, accuracy=85.9600\n",
      "Test loss = 0.47731, acc = 83.68\n",
      "Training loss=0.3915, accuracy=85.9867\n",
      "Test loss = 0.44584, acc = 84.16\n",
      "Train time on cpu: 58.942s\n"
     ]
    },
    {
     "data": {
      "application/vnd.jupyter.widget-view+json": {
       "model_id": "763e2c7cc92248bb9b608462ee38c4c3",
       "version_major": 2,
       "version_minor": 0
      },
      "text/plain": [
       "  0%|          | 0/8 [00:00<?, ?it/s]"
      ]
     },
     "metadata": {},
     "output_type": "display_data"
    },
    {
     "name": "stdout",
     "output_type": "stream",
     "text": [
      "Training loss=0.3907, accuracy=85.9400\n",
      "Test loss = 0.47532, acc = 83.02\n",
      "Training loss=0.3882, accuracy=86.1317\n",
      "Test loss = 0.46235, acc = 83.70\n",
      "Training loss=0.3850, accuracy=86.2900\n",
      "Test loss = 0.46866, acc = 83.50\n",
      "Training loss=0.3828, accuracy=86.1867\n",
      "Test loss = 0.43916, acc = 84.86\n",
      "Training loss=0.3832, accuracy=86.2683\n",
      "Test loss = 0.50959, acc = 82.28\n",
      "Training loss=0.3809, accuracy=86.2600\n",
      "Test loss = 0.45186, acc = 83.89\n",
      "Training loss=0.3795, accuracy=86.3967\n",
      "Test loss = 0.44455, acc = 84.45\n",
      "Training loss=0.3776, accuracy=86.4333\n",
      "Test loss = 0.47310, acc = 83.97\n",
      "Train time on gpu: 58.458s\n"
     ]
    },
    {
     "data": {
      "text/plain": [
       "58.45762712499709"
      ]
     },
     "execution_count": 41,
     "metadata": {},
     "output_type": "execute_result"
    }
   ],
   "source": [
    "# Create a model and mount it to separate devices\n",
    "model_1_cpu = model_1.to(\"cpu\")\n",
    "model_1_gpu = model_1.to(DEVICE)\n",
    "\n",
    "from timeit import default_timer as timer\n",
    "from tqdm.auto import tqdm\n",
    "epochs = 8\n",
    "\n",
    "start = timer()\n",
    "for epoch in tqdm(range(epochs)):\n",
    "    train_step(train_dl,model_1_cpu,loss_fn,optim_1)\n",
    "    test_step(test_dl,model_1_cpu,loss_fn)\n",
    "end = timer()\n",
    "print_train_time(start,end,\"cpu\")\n",
    "start = timer()\n",
    "\n",
    "start=timer()\n",
    "for epoch in tqdm(range(epochs)):\n",
    "    train_step(train_dl,model_1_gpu,loss_fn,optim_1)\n",
    "    test_step(test_dl,model_1_gpu,loss_fn)\n",
    "end = timer()\n",
    "print_train_time(start,end,\"gpu\")\n",
    "\n",
    "\n",
    "\n",
    "\n"
   ]
  }
 ],
 "metadata": {
  "kernelspec": {
   "display_name": "ml",
   "language": "python",
   "name": "python3"
  },
  "language_info": {
   "codemirror_mode": {
    "name": "ipython",
    "version": 3
   },
   "file_extension": ".py",
   "mimetype": "text/x-python",
   "name": "python",
   "nbconvert_exporter": "python",
   "pygments_lexer": "ipython3",
   "version": "3.11.7"
  }
 },
 "nbformat": 4,
 "nbformat_minor": 2
}
