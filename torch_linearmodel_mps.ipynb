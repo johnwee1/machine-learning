{
 "cells": [
  {
   "cell_type": "code",
   "execution_count": 17,
   "metadata": {},
   "outputs": [],
   "source": [
    "import numpy as np\n",
    "import torch\n",
    "from torch import nn\n",
    "import matplotlib.pyplot as plt\n"
   ]
  },
  {
   "cell_type": "markdown",
   "metadata": {},
   "source": [
    "Create device agnostic code"
   ]
  },
  {
   "cell_type": "code",
   "execution_count": 18,
   "metadata": {},
   "outputs": [
    {
     "name": "stdout",
     "output_type": "stream",
     "text": [
      "Using device=mps\n"
     ]
    }
   ],
   "source": [
    "FORCE_CPU = False\n",
    "device = \"cpu\"\n",
    "if torch.cuda.is_available() and not FORCE_CPU:\n",
    "    device = \"cuda\"\n",
    "elif torch.backends.mps.is_available() and not FORCE_CPU:\n",
    "    device = \"mps\"\n",
    "torch.device(device)\n",
    "print(f\"Using device={device}\")"
   ]
  },
  {
   "cell_type": "markdown",
   "metadata": {},
   "source": [
    "\n",
    "### Data\n",
    "\n",
    "Create some linearly shaped data"
   ]
  },
  {
   "cell_type": "code",
   "execution_count": 19,
   "metadata": {},
   "outputs": [],
   "source": [
    "weight =  0.7  # the slope\n",
    "bias = 0.3  # the intercept/offset\n",
    "\n",
    "# Create range values\n",
    "start = 0\n",
    "end = 1\n",
    "step = 0.02\n",
    "\n",
    "X = torch.arange(start,end,step).unsqueeze(dim=1)\n",
    "y = weight * X + bias\n"
   ]
  },
  {
   "cell_type": "code",
   "execution_count": 20,
   "metadata": {},
   "outputs": [],
   "source": [
    "# Split data \n",
    "train_split = int(0.8 * len(X))\n",
    "X_train, y_train =  X[:train_split], y[:train_split]\n",
    "X_test, y_test = X[train_split:], y[train_split:]\n",
    "\n",
    "# YOU NEED TO LOAD DATA ONTO THE DEVICE !!!!!!!!!\n",
    "X_train = X_train.to(device)\n",
    "y_train = y_train.to(device)\n",
    "X_test = X_test.to(device)\n",
    "y_test = y_test.to(device)\n"
   ]
  },
  {
   "cell_type": "code",
   "execution_count": 29,
   "metadata": {},
   "outputs": [],
   "source": [
    "# Plot data using a helper function\n",
    "# If the data was loaded onto anything other than the CPU, it needs to be loaded back so that it can be converted back to numpy\n",
    "def plot_predictions(train_data, train_labels, test_data, test_labels, predictions=None):\n",
    "    plt.figure(figsize = (10,7))\n",
    "    plt.scatter(train_data.cpu(), train_labels.cpu(), c=\"b\", s=4, label=\"Training Data\")\n",
    "    plt.scatter(test_data.cpu(), test_labels.cpu(), c=\"g\", s=4, label=\"Test data\")\n",
    "    if predictions is not None:\n",
    "        plt.scatter(test_data.cpu(), predictions.cpu(), c=\"r\", s=4, label=\"Predictions\")\n",
    "    plt.legend(prop={\"size\":14})\n",
    "\n",
    "# plot_predictions(X_train, y_train, X_test, y_test)\n"
   ]
  },
  {
   "cell_type": "markdown",
   "metadata": {},
   "source": [
    "### Build linear model"
   ]
  },
  {
   "cell_type": "code",
   "execution_count": 22,
   "metadata": {},
   "outputs": [
    {
     "data": {
      "text/plain": [
       "OrderedDict([('linear_layer.weight', tensor([[0.7645]])),\n",
       "             ('linear_layer.bias', tensor([0.8300]))])"
      ]
     },
     "execution_count": 22,
     "metadata": {},
     "output_type": "execute_result"
    }
   ],
   "source": [
    "# Create a linear model\n",
    "class LinearModel(nn.Module):\n",
    "    def __init__(self):\n",
    "        super().__init__()\n",
    "        # Use linear layer (aka fully connected layer) nn.Linear to apply a linear transformation y=wX+b\n",
    "        self.linear_layer = nn.Linear(in_features=1, out_features=1)\n",
    "        # Features are the \"parameters\" of the model\n",
    "        # in_features are X_i\n",
    "        # out_features are y\n",
    "        # You check using model.parameters()\n",
    "\n",
    "    def forward(self, x: torch.Tensor) -> torch.Tensor:\n",
    "        return self.linear_layer(x)\n",
    "    \n",
    "# Set the manual seed\n",
    "torch.manual_seed(42)\n",
    "\n",
    "# Instantiate model\n",
    "model = LinearModel()\n",
    "\n",
    "# Inspect parameters\n",
    "model.state_dict()\n",
    "\n"
   ]
  },
  {
   "cell_type": "markdown",
   "metadata": {},
   "source": [
    "Without using nn.Linear, you'd have to initialise the parameters manually.\n",
    "The gist of it is that given a random weight and random bias the model will eventually optimize:\n",
    "\n",
    "```python\n",
    "self.weights = nn.Parameter(torch.randn(\n",
    "    1,\n",
    "    requires_grad=True,\n",
    "    dtype=torch.float\n",
    "))\n",
    "\n",
    "...\n",
    "def forward(x):\n",
    "    return x*self.weights + self.bias\n",
    "```\n",
    "\n",
    "Everything in python is an object. `linear_layer` is an instance of `nn.Linear`, and in the class `nn.Linear` there is a `__call__()` function that returns the linear transformation. So by calling the instance you are calling the inbuilt transform method in nn.Linear as defined in its `forward()`."
   ]
  },
  {
   "cell_type": "code",
   "execution_count": 23,
   "metadata": {},
   "outputs": [
    {
     "data": {
      "text/plain": [
       "[Parameter containing:\n",
       " tensor([[0.7645]], device='mps:0', requires_grad=True),\n",
       " Parameter containing:\n",
       " tensor([0.8300], device='mps:0', requires_grad=True)]"
      ]
     },
     "execution_count": 23,
     "metadata": {},
     "output_type": "execute_result"
    }
   ],
   "source": [
    "# Set the model to use target device\n",
    "model.to(device=device)\n",
    "list(model.parameters())"
   ]
  },
  {
   "cell_type": "markdown",
   "metadata": {},
   "source": [
    "### Training Loop/Code\n",
    "\n",
    "Consists of:\n",
    "- Loss function\n",
    "- Optimizer (gradient descent/Adam/etc)\n",
    "- Step (Loop)\n",
    "\n",
    "The training algorithm is as such:\n",
    "In model training mode:\n",
    "    make predictions by feeding X_train into model\n",
    "    calculate the difference between predicted and actual (quantified by loss) using the loss function\n",
    "    zero gradients\n",
    "    backprop using loss.backward() WHY?\n",
    "    modify gradient with optimizer.step()"
   ]
  },
  {
   "cell_type": "code",
   "execution_count": 30,
   "metadata": {},
   "outputs": [
    {
     "name": "stdout",
     "output_type": "stream",
     "text": [
      "Epoch: 0, Loss: 0.000776502478402108, test loss: 0.012743920087814331\n",
      "Epoch: 10, Loss: 0.000776502478402108, test loss: 0.012743920087814331\n",
      "Epoch: 20, Loss: 0.000776502478402108, test loss: 0.012743920087814331\n",
      "Epoch: 30, Loss: 0.000776502478402108, test loss: 0.012743920087814331\n",
      "Epoch: 40, Loss: 0.000776502478402108, test loss: 0.012743920087814331\n",
      "Epoch: 50, Loss: 0.000776502478402108, test loss: 0.012743920087814331\n",
      "Epoch: 60, Loss: 0.000776502478402108, test loss: 0.012743920087814331\n",
      "Epoch: 70, Loss: 0.000776502478402108, test loss: 0.012743920087814331\n",
      "Epoch: 80, Loss: 0.000776502478402108, test loss: 0.012743920087814331\n",
      "Epoch: 90, Loss: 0.000776502478402108, test loss: 0.012743920087814331\n",
      "Epoch: 100, Loss: 0.000776502478402108, test loss: 0.012743920087814331\n",
      "Epoch: 110, Loss: 0.000776502478402108, test loss: 0.012743920087814331\n",
      "Epoch: 120, Loss: 0.000776502478402108, test loss: 0.012743920087814331\n",
      "Epoch: 130, Loss: 0.000776502478402108, test loss: 0.012743920087814331\n",
      "Epoch: 140, Loss: 0.000776502478402108, test loss: 0.012743920087814331\n",
      "Epoch: 150, Loss: 0.000776502478402108, test loss: 0.012743920087814331\n",
      "Epoch: 160, Loss: 0.000776502478402108, test loss: 0.012743920087814331\n",
      "Epoch: 170, Loss: 0.000776502478402108, test loss: 0.012743920087814331\n",
      "Epoch: 180, Loss: 0.000776502478402108, test loss: 0.012743920087814331\n",
      "Epoch: 190, Loss: 0.000776502478402108, test loss: 0.012743920087814331\n"
     ]
    }
   ],
   "source": [
    "# Select a loss function\n",
    "loss_fn = nn.L1Loss()  # same as MAE (mean absolute error)\n",
    "\n",
    "# Select an optimizer to use and the model parameters that you want to optimize\n",
    "optimizer = torch.optim.SGD(params=model.parameters(),lr=0.01)\n",
    "\n",
    "# Begin the training loop\n",
    "epochs = 200\n",
    "for i in range(epochs):\n",
    "    model.train() # Train mode\n",
    "    y_pred = model(X_train)\n",
    "    loss = loss_fn(y_pred, y_train)\n",
    "    optimizer.zero_grad()\n",
    "    loss.backward() # links training labels to predictions\n",
    "    optimizer.step() # links to model params\n",
    "\n",
    "    model.eval() # Test mode\n",
    "    with torch.inference_mode():\n",
    "        test_pred = model(X_test)\n",
    "        test_loss = loss_fn(test_pred, y_test)\n",
    "        \n",
    "    if i%10==0:\n",
    "        print(f\"Epoch: {i}, Loss: {loss}, test loss: {test_loss}\")\n"
   ]
  },
  {
   "cell_type": "markdown",
   "metadata": {},
   "source": [
    "### Saving and loading a model"
   ]
  },
  {
   "cell_type": "code",
   "execution_count": 45,
   "metadata": {},
   "outputs": [],
   "source": [
    "from pathlib import Path\n",
    "\n",
    "model_subdir = Path('model')\n",
    "model_subdir.mkdir(parents=True, exist_ok=True)\n",
    "model_name = Path('linear_model_v0.pth') ## model extensions are given either as .pt or .pth\n",
    "torch.save(model.state_dict(), model_subdir / model_name)"
   ]
  },
  {
   "cell_type": "markdown",
   "metadata": {},
   "source": [
    "> Note: If you save as `model.state_dict` instead of `model.state_dict()`, you are saving to file instead the METHOD object which calls the dictionary and not the dictionary itself."
   ]
  },
  {
   "cell_type": "markdown",
   "metadata": {},
   "source": [
    "> Loading a model"
   ]
  },
  {
   "cell_type": "code",
   "execution_count": 46,
   "metadata": {},
   "outputs": [
    {
     "data": {
      "text/plain": [
       "OrderedDict([('linear_layer.weight', tensor([[0.6999]], device='mps:0')),\n",
       "             ('linear_layer.bias', tensor([0.3008], device='mps:0'))])"
      ]
     },
     "execution_count": 46,
     "metadata": {},
     "output_type": "execute_result"
    }
   ],
   "source": [
    "# Instantiate a model with untuned weights\n",
    "loaded_model = LinearModel()\n",
    "loaded_dict = torch.load(f=model_subdir/model_name)\n",
    "loaded_model.load_state_dict(loaded_dict)\n",
    "\n",
    "# Load the model onto the device\n",
    "loaded_model.to(device=device)\n",
    "\n",
    "loaded_model.state_dict()\n"
   ]
  }
 ],
 "metadata": {
  "kernelspec": {
   "display_name": ".venv",
   "language": "python",
   "name": "python3"
  },
  "language_info": {
   "codemirror_mode": {
    "name": "ipython",
    "version": 3
   },
   "file_extension": ".py",
   "mimetype": "text/x-python",
   "name": "python",
   "nbconvert_exporter": "python",
   "pygments_lexer": "ipython3",
   "version": "3.11.7"
  }
 },
 "nbformat": 4,
 "nbformat_minor": 2
}
